{
 "cells": [
  {
   "cell_type": "code",
   "execution_count": 28,
   "metadata": {},
   "outputs": [],
   "source": [
    "class Car:\n",
    "\n",
    "    def __init__(self, brand, model, color):\n",
    "        self.brand = brand\n",
    "        self.model = model\n",
    "        self.color = color\n",
    "\n",
    "    def display_info(self):\n",
    "        return f\"Brand: {self.brand}, Model: {self.model}\""
   ]
  },
  {
   "cell_type": "code",
   "execution_count": 50,
   "metadata": {},
   "outputs": [
    {
     "name": "stdout",
     "output_type": "stream",
     "text": [
      "Brand: Toyota, Model: Corolla\n",
      "car Brand: Kia, Model: Rio\n",
      "<class '__main__.Car'> Brand: Hyundai, Model: Santafe\n"
     ]
    }
   ],
   "source": [
    "car = Car(brand=\"Toyota\", model=\"Corolla\", color=\"black\")\n",
    "print(car.display_info())\n",
    "car.brand = \"Kia\"\n",
    "car.model = \"Rio\"\n",
    "car.color = \"blue\"\n",
    "print(\"car\", car.display_info())\n",
    "new_car = Car(brand=\"Hyundai\", model=\"Santafe\", color=\"red\")\n",
    "print(type(new_car), new_car.display_info())"
   ]
  },
  {
   "cell_type": "code",
   "execution_count": 59,
   "metadata": {},
   "outputs": [],
   "source": [
    "class Dog:\n",
    "    def __init__(self, name, breed):\n",
    "        self.name = name\n",
    "        self.breed = breed\n",
    "\n",
    "    def bark(self):\n",
    "        print(f\"{self.name} : says woof!\")\n",
    "\n",
    "    def introduce(self):\n",
    "        print(f\"{self.name} and I am a {self.breed} !\")"
   ]
  },
  {
   "cell_type": "code",
   "execution_count": 58,
   "metadata": {},
   "outputs": [
    {
     "name": "stdout",
     "output_type": "stream",
     "text": [
      "Buddy : says woof!\n",
      "<class 'method'>\n",
      "Buddy and I am a Golden Retiever !\n"
     ]
    }
   ],
   "source": [
    "dog1 = Dog (name = \"Buddy\", breed = \"Golden Retiever\") \n",
    "\n",
    "dog1.bark() \n",
    "print(type(dog1.bark))\n",
    "dog1.introduce() "
   ]
  },
  {
   "cell_type": "code",
   "execution_count": 6,
   "metadata": {},
   "outputs": [],
   "source": [
    "class Person : \n",
    "    def __init__ (self,name, job)  : \n",
    "        self.name = name \n",
    "        self.job = job \n",
    "        \n",
    "    def introduce (self) : \n",
    "        print(f\"{self.name}{self.job}\")\n",
    "        \n",
    "\n",
    "class Actor (Person) : \n",
    "    \n",
    "    def __init__ (self, name, best_movie) : \n",
    "        super().__init__(name , job=\"배우\") \n",
    "        self.best_movie = best_movie\n",
    "        \n",
    "    def filmography(self) : \n",
    "        print(f\"대표 작품은 {self.best_movie}\") \n",
    "        \n"
   ]
  },
  {
   "cell_type": "code",
   "execution_count": null,
   "metadata": {},
   "outputs": [
    {
     "name": "stdout",
     "output_type": "stream",
     "text": [
      "송강호\n",
      "송강호배우\n",
      "대표 작품은 기생충\n"
     ]
    }
   ],
   "source": [
    "\n",
    "actor_song = Actor(\"송강호\", best_movie=\"기생충\") \n",
    "\n",
    "actor_song.introduce() \n",
    "actor_song.filmography() "
   ]
  }
 ],
 "metadata": {
  "kernelspec": {
   "display_name": "Python 3",
   "language": "python",
   "name": "python3"
  },
  "language_info": {
   "codemirror_mode": {
    "name": "ipython",
    "version": 3
   },
   "file_extension": ".py",
   "mimetype": "text/x-python",
   "name": "python",
   "nbconvert_exporter": "python",
   "pygments_lexer": "ipython3",
   "version": "3.13.2"
  }
 },
 "nbformat": 4,
 "nbformat_minor": 2
}
