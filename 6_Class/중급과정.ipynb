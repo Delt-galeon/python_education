{
 "cells": [
  {
   "cell_type": "markdown",
   "metadata": {},
   "source": [
    "### 추상화 (Abstraction) 개념 설명\n",
    "- **추상화 (Abstraction)**는 객체 지향 프로그래밍의 핵심 개념 중 하나로, 복잡한 시스템을 단순화하여 중요한 특성만을 강조하는 \n",
    "과정입니다. 즉, 세부 구현을 숨기고, 필요한 부분만을 외부에 제공하는 것입니다. 이로 인해 사용자는 복잡한 내부 구현을 신경 쓸 필요 없이 객체의 동작을 이해하고 사용할 수 있습니다.\n",
    "\n",
    "- 추상화는 구체적인 구현 세부 사항을 숨기고 대신 인터페이스만 제공하여 복잡한 시스템을 간단하고 효율적으로 다룰 수 있게 합니다."
   ]
  },
  {
   "cell_type": "markdown",
   "metadata": {},
   "source": [
    "### 추상 메서드 (Abstract Method)\n",
    "- 추상 메서드는 구현되지 않은 메서드로, 자식 클래스에서 구체적인 구현을 해야 합니다.\n",
    "- 추상 메서드는 @abstractmethod 데코레이터를 사용하여 정의합니다."
   ]
  },
  {
   "cell_type": "code",
   "execution_count": null,
   "metadata": {},
   "outputs": [],
   "source": [
    "from abc import ABC, abstractmethod\n",
    "\n",
    "\n",
    "class Animal(ABC):  # 추상 클래스\n",
    "    @abstractmethod\n",
    "    def speak(self):  # 추상 메서드\n",
    "        pass\n",
    "\n",
    "\n",
    "class Dog(Animal):\n",
    "    def speak(self):  # 추상 메서드 구현\n",
    "        return \"Woof!\"\n",
    "\n",
    "\n",
    "class Cat(Animal):\n",
    "    def speak(self):  # 추상 메서드 구현\n",
    "        return \"Meow!\""
   ]
  },
  {
   "cell_type": "code",
   "execution_count": null,
   "metadata": {},
   "outputs": [
    {
     "name": "stdout",
     "output_type": "stream",
     "text": [
      "Woof!\n",
      "Meow!\n"
     ]
    }
   ],
   "source": [
    "# 객체 생성\n",
    "dog = Dog()\n",
    "cat = Cat()\n",
    "\n",
    "print(dog.speak())  # Woof!\n",
    "print(cat.speak())  # Meow!"
   ]
  },
  {
   "cell_type": "code",
   "execution_count": null,
   "metadata": {},
   "outputs": [
    {
     "name": "stdout",
     "output_type": "stream",
     "text": [
      "Rectangle: Width 20, Height 30\n"
     ]
    }
   ],
   "source": [
    "from abc import ABC, abstractmethod\n",
    "\n",
    "\n",
    "class Shape(ABC):\n",
    "    @abstractmethod\n",
    "    def get_size(self):\n",
    "        pass\n",
    "\n",
    "\n",
    "class Rectangle(Shape):\n",
    "    def __init__(self, width, height):\n",
    "        self.width = width\n",
    "        self.height = height\n",
    "\n",
    "    def get_size(self):\n",
    "        return f\"Rectangle: Width {self.width}, Height {self.height}\"\n",
    "\n",
    "\n",
    "rectangle = Rectangle(width=20, height=30)\n",
    "print(rectangle.get_size())  # Rectangle: Width 20, Height 30"
   ]
  },
  {
   "cell_type": "code",
   "execution_count": null,
   "metadata": {},
   "outputs": [],
   "source": [
    "from abc import ABC, abstractmethod\n",
    "\n",
    "\n",
    "class Animal(ABC):\n",
    "    @abstractmethod\n",
    "    def speak(self):\n",
    "        pass\n",
    "\n",
    "\n",
    "class Dog(Animal):\n",
    "    def speak(self):\n",
    "        return \"Woof!\"\n",
    "\n",
    "\n",
    "class Cat(Animal):\n",
    "    def speak(self):\n",
    "        return \"Meow!\"\n",
    "\n",
    "\n",
    "def animal_sound(animal: Animal):\n",
    "    print(animal.speak())"
   ]
  },
  {
   "cell_type": "code",
   "execution_count": null,
   "metadata": {},
   "outputs": [
    {
     "name": "stdout",
     "output_type": "stream",
     "text": [
      "Woof!\n",
      "Meow!\n"
     ]
    }
   ],
   "source": [
    "# 다형성 사용\n",
    "dog = Dog()\n",
    "cat = Cat()\n",
    "\n",
    "animal_sound(dog)  # Woof!\n",
    "animal_sound(cat)  # Meow!"
   ]
  },
  {
   "cell_type": "markdown",
   "metadata": {},
   "source": [
    "#### SOLID는 객체 지향 프로그래밍에서 소프트웨어 설계의 5가지 원칙을 나타내는 약어입니다. 이 원칙들은 유지보수 가능하고, 확장 가능한 시스템을 설계하는 데 도움을 줍니다. SOLID는 다음과 같습니다:\n",
    "\n",
    "- S: 단일 책임 원칙 (Single Responsibility Principle, SRP)\n",
    "- O: 개방-폐쇄 원칙 (Open/Closed Principle, OCP)\n",
    "- L: 리스코프 치환 원칙 (Liskov Substitution Principle, LSP)\n",
    "- I: 인터페이스 분리 원칙 (Interface Segregation Principle, ISP)\n",
    "- D: 의존성 역전 원칙 (Dependency Inversion Principle, DIP)"
   ]
  },
  {
   "cell_type": "markdown",
   "metadata": {},
   "source": [
    "-------------------------------------------------------------------------------------------"
   ]
  },
  {
   "cell_type": "markdown",
   "metadata": {},
   "source": [
    "## 1. 단일 책임 원칙 (Single Responsibility Principle, SRP)\n",
    "- 설명:\n",
    "- 클래스는 하나의 책임만 가져야 하며, 하나의 이유로만 변경되어야 합니다. 즉, 클래스가 여러 가지 일을 하지 않도록 해야 합니다."
   ]
  },
  {
   "cell_type": "markdown",
   "metadata": {},
   "source": [
    "> 예시 1: 잘못된 예시"
   ]
  },
  {
   "cell_type": "code",
   "execution_count": null,
   "metadata": {},
   "outputs": [],
   "source": [
    "class Employee:\n",
    "    def __init__(self, name, salary):\n",
    "        self.name = name\n",
    "        self.salary = salary\n",
    "\n",
    "    def calculate_pay(self):\n",
    "        return self.salary * 4  # 월급 계산\n",
    "\n",
    "    def save_to_db(self):\n",
    "        # 데이터베이스에 저장하는 로직\n",
    "        pass\n",
    "\n",
    "\n",
    "# Employee 클래스는 두 가지 책임을 가짐: 급여 계산과 데이터베이스 저장"
   ]
  },
  {
   "cell_type": "markdown",
   "metadata": {},
   "source": [
    "> 예시 2: 올바른 예시 (SRP 준수)"
   ]
  },
  {
   "cell_type": "code",
   "execution_count": null,
   "metadata": {},
   "outputs": [],
   "source": [
    "class Employee:\n",
    "    def __init__(self, name, salary):\n",
    "        self.name = name\n",
    "        self.salary = salary\n",
    "\n",
    "    def calculate_pay(self):\n",
    "        return self.salary * 4  # 월급 계산\n",
    "\n",
    "\n",
    "class EmployeeDatabase:\n",
    "    def save_to_db(self, employee):\n",
    "        # 데이터베이스에 저장하는 로직\n",
    "        pass\n",
    "\n",
    "\n",
    "# Employee는 오직 급여 계산만 하고, 저장은 다른 클래스를 담당합니다."
   ]
  },
  {
   "cell_type": "code",
   "execution_count": null,
   "metadata": {},
   "outputs": [
    {
     "name": "stdout",
     "output_type": "stream",
     "text": [
      "Saving Alice to the database.\n",
      "Sending email to alice@example.com\n"
     ]
    }
   ],
   "source": [
    "#### Solid (단일 책임 원칙)\n",
    "\n",
    "\n",
    "# 잘못된 예: 다수의 책임을 가진 클래스\n",
    "class User:\n",
    "    def __init__(self, name, email):\n",
    "        self.name = name\n",
    "        self.email = email\n",
    "\n",
    "    def save_to_db(self):\n",
    "        print(f\"Saving {self.name} to the database.\")\n",
    "\n",
    "    def send_email(self):\n",
    "        print(f\"Sending email to {self.email}\")\n",
    "\n",
    "\n",
    "# 수정 후: 각 책임을 분리한 클래스\n",
    "class User:\n",
    "    def __init__(self, name, email):\n",
    "        self.name = name\n",
    "        self.email = email\n",
    "\n",
    "\n",
    "class Database:\n",
    "    def save_user(self, user):\n",
    "        print(f\"Saving {user.name} to the database.\")\n",
    "\n",
    "\n",
    "class EmailService:\n",
    "    def send_email(self, email):\n",
    "        print(f\"Sending email to {email}\")\n",
    "\n",
    "\n",
    "# 사용\n",
    "user = User(\"Alice\", \"alice@example.com\")\n",
    "database = Database()\n",
    "email_service = EmailService()\n",
    "\n",
    "database.save_user(user)\n",
    "email_service.send_email(user.email)"
   ]
  },
  {
   "cell_type": "markdown",
   "metadata": {},
   "source": [
    "--------------------------------------------------------------------------------"
   ]
  },
  {
   "cell_type": "markdown",
   "metadata": {},
   "source": [
    "## 2. 개방-폐쇄 원칙 (Open/Closed Principle, OCP)\n",
    "- 설명:\n",
    "- 소프트웨어는 확장에는 열려 있어야 하고, 수정에는 닫혀 있어야 한다는 원칙입니다. 즉, 기존 코드를 수정하지 않고 기능을 확장할 수 있어야 합니다."
   ]
  },
  {
   "cell_type": "code",
   "execution_count": null,
   "metadata": {},
   "outputs": [
    {
     "name": "stdout",
     "output_type": "stream",
     "text": [
      "200\n",
      "78.5\n",
      "25.0\n"
     ]
    }
   ],
   "source": [
    "#### 개방-폐쇄 원칙 (Open/Closed Principle, OCP) 상세 설명\n",
    "\n",
    "from abc import ABC, abstractmethod\n",
    "\n",
    "\n",
    "# 추상 클래스 (Interface)\n",
    "class Shape(ABC):\n",
    "    @abstractmethod\n",
    "    def area(self):\n",
    "        pass\n",
    "\n",
    "\n",
    "# Rectangle 클래스\n",
    "class Rectangle(Shape):\n",
    "    def __init__(self, width, height):\n",
    "        self.width = width\n",
    "        self.height = height\n",
    "\n",
    "    def area(self):\n",
    "        return self.width * self.height\n",
    "\n",
    "\n",
    "# Circle 클래스\n",
    "class Circle(Shape):\n",
    "    def __init__(self, radius):\n",
    "        self.radius = radius\n",
    "\n",
    "    def area(self):\n",
    "        return 3.14 * self.radius * self.radius\n",
    "\n",
    "\n",
    "# 새로운 도형 추가 (Triangle)\n",
    "class Triangle(Shape):\n",
    "    def __init__(self, base, height):\n",
    "        self.base = base\n",
    "        self.height = height\n",
    "\n",
    "    def area(self):\n",
    "        return 0.5 * self.base * self.height\n",
    "\n",
    "\n",
    "# 면적 계산 클래스\n",
    "class AreaCalculator:\n",
    "    def calculate_area(self, shape: Shape):\n",
    "        return shape.area()\n",
    "\n",
    "\n",
    "# 사용 예\n",
    "rectangle = Rectangle(10, 20)\n",
    "circle = Circle(5)\n",
    "triangle = Triangle(10, 5)\n",
    "\n",
    "calculator = AreaCalculator()\n",
    "\n",
    "print(calculator.calculate_area(rectangle))  # 200\n",
    "print(calculator.calculate_area(circle))  # 78.5\n",
    "print(calculator.calculate_area(triangle))  # 25.0"
   ]
  },
  {
   "cell_type": "markdown",
   "metadata": {},
   "source": [
    "> 잘못된 예시  ( 개방-폐쇄 원칙 (Open/Closed Principle, OCP) )"
   ]
  },
  {
   "cell_type": "code",
   "execution_count": null,
   "metadata": {},
   "outputs": [],
   "source": [
    "class Shape:\n",
    "    def area(self):\n",
    "        pass\n",
    "\n",
    "\n",
    "class Rectangle(Shape):\n",
    "    def __init__(self, width, height):\n",
    "        self.width = width\n",
    "        self.height = height\n",
    "\n",
    "    def area(self):\n",
    "        return self.width * self.height\n",
    "\n",
    "\n",
    "class AreaCalculator:\n",
    "    def calculate_area(self, shape):\n",
    "        if isinstance(shape, Rectangle):\n",
    "            return shape.area()\n",
    "        # 새로운 도형이 추가될 때마다 이곳을 수정해야 함"
   ]
  },
  {
   "cell_type": "markdown",
   "metadata": {},
   "source": [
    "> 올바른 개방-폐쇄 원칙 (Open/Closed Principle, OCP)"
   ]
  },
  {
   "cell_type": "code",
   "execution_count": null,
   "metadata": {},
   "outputs": [],
   "source": [
    "class Shape:\n",
    "    def area(self):\n",
    "        pass\n",
    "\n",
    "\n",
    "class Rectangle(Shape):\n",
    "    def __init__(self, width, height):\n",
    "        self.width = width\n",
    "        self.height = height\n",
    "\n",
    "    def area(self):\n",
    "        return self.width * self.height\n",
    "\n",
    "\n",
    "class Circle(Shape):\n",
    "    def __init__(self, radius):\n",
    "        self.radius = radius\n",
    "\n",
    "    def area(self):\n",
    "        return 3.14 * self.radius * self.radius\n",
    "\n",
    "\n",
    "class AreaCalculator:\n",
    "    def calculate_area(self, shape: Shape):\n",
    "        return shape.area()\n",
    "\n",
    "\n",
    "# 새로운 도형을 추가하더라도 기존 코드의 수정 없이 확장할 수 있음"
   ]
  },
  {
   "cell_type": "markdown",
   "metadata": {},
   "source": [
    "------------------------------------------------------------------------------"
   ]
  },
  {
   "cell_type": "markdown",
   "metadata": {},
   "source": [
    "## 3. 리스코프 치환 원칙 (Liskov Substitution Principle, LSP)\n",
    "- 설명: \n",
    "- 자식 클래스는 부모 클래스를 대체할 수 있어야 하며, 자식 클래스의 객체는 부모 클래스 객체를 대체할 수 있어야 합니다."
   ]
  },
  {
   "cell_type": "markdown",
   "metadata": {},
   "source": [
    "> 예시 1: 잘못된 리스코프 치환 원칙 (Liskov Substitution Principle, LSP)"
   ]
  },
  {
   "cell_type": "code",
   "execution_count": null,
   "metadata": {},
   "outputs": [
    {
     "ename": "Exception",
     "evalue": "Ostriches can't fly",
     "output_type": "error",
     "traceback": [
      "\u001b[0;31m---------------------------------------------------------------------------\u001b[0m",
      "\u001b[0;31mException\u001b[0m                                 Traceback (most recent call last)",
      "Cell \u001b[0;32mIn[12], line 11\u001b[0m\n\u001b[1;32m      9\u001b[0m \u001b[38;5;66;03m# Ostrich는 Bird를 대체할 수 없음. 잘못된 사용\u001b[39;00m\n\u001b[1;32m     10\u001b[0m bird \u001b[38;5;241m=\u001b[39m Ostrich()\n\u001b[0;32m---> 11\u001b[0m \u001b[38;5;28mprint\u001b[39m(\u001b[43mbird\u001b[49m\u001b[38;5;241;43m.\u001b[39;49m\u001b[43mfly\u001b[49m\u001b[43m(\u001b[49m\u001b[43m)\u001b[49m)  \u001b[38;5;66;03m# 예외 발생\u001b[39;00m\n",
      "Cell \u001b[0;32mIn[12], line 7\u001b[0m, in \u001b[0;36mOstrich.fly\u001b[0;34m(self)\u001b[0m\n\u001b[1;32m      6\u001b[0m \u001b[38;5;28;01mdef\u001b[39;00m \u001b[38;5;21mfly\u001b[39m(\u001b[38;5;28mself\u001b[39m):\n\u001b[0;32m----> 7\u001b[0m     \u001b[38;5;28;01mraise\u001b[39;00m \u001b[38;5;167;01mException\u001b[39;00m(\u001b[38;5;124m\"\u001b[39m\u001b[38;5;124mOstriches can\u001b[39m\u001b[38;5;124m'\u001b[39m\u001b[38;5;124mt fly\u001b[39m\u001b[38;5;124m\"\u001b[39m)\n",
      "\u001b[0;31mException\u001b[0m: Ostriches can't fly"
     ]
    }
   ],
   "source": [
    "class Bird:\n",
    "    def fly(self):\n",
    "        return \"Flying\"\n",
    "\n",
    "\n",
    "class Ostrich(Bird):\n",
    "    def fly(self):\n",
    "        raise Exception(\"Ostriches can't fly\")\n",
    "\n",
    "\n",
    "# Ostrich는 Bird를 대체할 수 없음. 잘못된 사용\n",
    "bird = Ostrich()\n",
    "print(bird.fly())  # 예외 발생"
   ]
  },
  {
   "cell_type": "markdown",
   "metadata": {},
   "source": [
    "> 예시 2: 올바른 리스코프 치환 원칙 (Liskov Substitution Principle, LSP) 준수"
   ]
  },
  {
   "cell_type": "code",
   "execution_count": null,
   "metadata": {},
   "outputs": [
    {
     "name": "stdout",
     "output_type": "stream",
     "text": [
      "Flying\n",
      "Running\n"
     ]
    }
   ],
   "source": [
    "class Bird:\n",
    "    def move(self):\n",
    "        return \"Moving\"\n",
    "\n",
    "\n",
    "class Sparrow(Bird):\n",
    "    def move(self):\n",
    "        return \"Flying\"\n",
    "\n",
    "\n",
    "class Ostrich(Bird):\n",
    "    def move(self):\n",
    "        return \"Running\"\n",
    "\n",
    "\n",
    "# Ostrich도 Bird의 자식 클래스이므로, 대체할 수 있음\n",
    "def make_move(bird: Bird):\n",
    "    print(bird.move())\n",
    "\n",
    "\n",
    "bird1 = Sparrow()\n",
    "bird2 = Ostrich()\n",
    "\n",
    "make_move(bird1)  # Flying\n",
    "make_move(bird2)  # Running"
   ]
  },
  {
   "cell_type": "markdown",
   "metadata": {},
   "source": [
    "------------------------------------------------------------------------------"
   ]
  },
  {
   "cell_type": "markdown",
   "metadata": {},
   "source": [
    "## 4. 인터페이스 분리 원칙 (Interface Segregation Principle, ISP) \n",
    "- 설명:\n",
    "- 클라이언트는 자신이 사용하지 않는 메서드에 의존하지 않아야 한다는 원칙입니다. 즉, 클라이언트가 불필요한 메서드를 포함한 인터페이스를 강제로 구현하도록 해서는 안 됩니다."
   ]
  },
  {
   "cell_type": "markdown",
   "metadata": {},
   "source": [
    "> ## ISP의 주요 목적\n",
    "- 불필요한 의존성 제거: 클라이언트가 사용하지 않는 기능에 의존하지 않도록 함으로써, 불필요한 의존성을 피하고, 유지보수성을 높입니다.\n",
    "- 인터페이스의 세분화: 큰 인터페이스를 작고 구체적인 인터페이스들로 나누어 사용합니다. 이로 인해 각 클래스는 자신이 실제로 필요한 기능만 구현하게 됩니다.\n",
    "- 유연성 향상: 특정 기능이 변경되더라도, 그 기능을 사용하지 않는 클래스는 영향을 받지 않도록 하여 유연성을 높입니다."
   ]
  },
  {
   "cell_type": "markdown",
   "metadata": {},
   "source": [
    "> 잘못된 예시: 하나의 거대한 인터페이스"
   ]
  },
  {
   "cell_type": "code",
   "execution_count": null,
   "metadata": {},
   "outputs": [],
   "source": [
    "class Machine:\n",
    "    def print(self, document):\n",
    "        pass\n",
    "\n",
    "    def scan(self, document):\n",
    "        pass\n",
    "\n",
    "    def fax(self, document):\n",
    "        pass\n",
    "\n",
    "\n",
    "class MultiFunctionPrinter(Machine):\n",
    "    def print(self, document):\n",
    "        print(\"Printing document\")\n",
    "\n",
    "    def scan(self, document):\n",
    "        print(\"Scanning document\")\n",
    "\n",
    "    def fax(self, document):\n",
    "        print(\"Faxing document\")\n",
    "\n",
    "\n",
    "class SimplePrinter(Machine):\n",
    "    def print(self, document):\n",
    "        print(\"Printing document\")\n",
    "\n",
    "    def scan(self, document):  # SimplePrinter는 스캔을 지원하지 않음\n",
    "        raise Exception(\"Scan functionality not available\")\n",
    "\n",
    "    def fax(self, document):  # SimplePrinter는 팩스를 지원하지 않음\n",
    "        raise Exception(\"Fax functionality not available\")"
   ]
  },
  {
   "cell_type": "markdown",
   "metadata": {},
   "source": [
    "> - 인터페이스 분리 원칙을 적용한 올바른 예시\n",
    "> - 인터페이스를 더 작은 단위로 분리하여 각 클래스가 자신의 책임만 수행하도록 합니다."
   ]
  },
  {
   "cell_type": "code",
   "execution_count": null,
   "metadata": {},
   "outputs": [
    {
     "name": "stdout",
     "output_type": "stream",
     "text": [
      "Printing document\n"
     ]
    }
   ],
   "source": [
    "from abc import ABC, abstractmethod\n",
    "\n",
    "\n",
    "class Printer(ABC):\n",
    "    @abstractmethod\n",
    "    def print(self, document):\n",
    "        pass\n",
    "\n",
    "\n",
    "class Scanner(ABC):\n",
    "    @abstractmethod\n",
    "    def scan(self, document):\n",
    "        pass\n",
    "\n",
    "\n",
    "class Fax(ABC):\n",
    "    @abstractmethod\n",
    "    def fax(self, document):\n",
    "        pass\n",
    "\n",
    "\n",
    "class MultiFunctionPrinter(Printer, Scanner, Fax):\n",
    "    def print(self, document):\n",
    "        print(\"Printing document\")\n",
    "\n",
    "    def scan(self, document):\n",
    "        print(\"Scanning document\")\n",
    "\n",
    "    def fax(self, document):\n",
    "        print(\"Faxing document\")\n",
    "\n",
    "\n",
    "class SimplePrinter(Printer):\n",
    "    def print(self, document):\n",
    "        print(\"Printing document\")\n",
    "\n",
    "\n",
    "# 사용 예시\n",
    "simple_printer = SimplePrinter()\n",
    "simple_printer.print(\"Document\")"
   ]
  },
  {
   "cell_type": "markdown",
   "metadata": {},
   "source": [
    "> 예시 1: 잘못된 예시 (인터페이스 분리 원칙 (Interface Segregation Principle, ISP)) "
   ]
  },
  {
   "cell_type": "code",
   "execution_count": null,
   "metadata": {},
   "outputs": [],
   "source": [
    "class Machine:\n",
    "    def print(self):\n",
    "        pass\n",
    "\n",
    "    def scan(self):\n",
    "        pass\n",
    "\n",
    "    def fax(self):\n",
    "        pass\n",
    "\n",
    "\n",
    "class MultiFunctionPrinter(Machine):\n",
    "    def print(self):\n",
    "        print(\"Printing\")\n",
    "\n",
    "    def scan(self):\n",
    "        print(\"Scanning\")\n",
    "\n",
    "    def fax(self):\n",
    "        print(\"Faxing\")\n",
    "\n",
    "\n",
    "class SimplePrinter(Machine):\n",
    "    def print(self):\n",
    "        print(\"Printing\")\n",
    "\n",
    "    def scan(self):  # 불필요한 메서드\n",
    "        raise Exception(\"Scan functionality not available\")"
   ]
  },
  {
   "cell_type": "markdown",
   "metadata": {},
   "source": [
    "> 예시 2: 올바른 예시 (ISP 준수)"
   ]
  },
  {
   "cell_type": "code",
   "execution_count": null,
   "metadata": {},
   "outputs": [],
   "source": [
    "class Printer:\n",
    "    def print(self):\n",
    "        pass\n",
    "\n",
    "\n",
    "class Scanner:\n",
    "    def scan(self):\n",
    "        pass\n",
    "\n",
    "\n",
    "class Fax:\n",
    "    def fax(self):\n",
    "        pass\n",
    "\n",
    "\n",
    "class MultiFunctionPrinter(Printer, Scanner, Fax):\n",
    "    def print(self):\n",
    "        print(\"Printing\")\n",
    "\n",
    "    def scan(self):\n",
    "        print(\"Scanning\")\n",
    "\n",
    "    def fax(self):\n",
    "        print(\"Faxing\")\n",
    "\n",
    "\n",
    "class SimplePrinter(Printer):\n",
    "    def print(self):\n",
    "        print(\"Printing\")"
   ]
  },
  {
   "cell_type": "markdown",
   "metadata": {},
   "source": [
    "------------------------------------------------------------------------------"
   ]
  },
  {
   "cell_type": "markdown",
   "metadata": {},
   "source": [
    "### 5. 의존성 역전 원칙 (Dependency Inversion Principle, DIP)\n",
    "- 설명:\n",
    "- 고수준 모듈은 저수준 모듈에 의존하지 말고, 둘 다 추상화에 의존해야 한다는 원칙입니다. 또한, 구체적인 클래스에 의존하지 않고, 인터페이스나 추상 클래스에 의존해야 합니다."
   ]
  },
  {
   "cell_type": "markdown",
   "metadata": {},
   "source": [
    "> ### 고수준 모듈은 저수준 모듈에 의존해서는 안 된다.\n",
    "> - 고수준 모듈은 비즈니스 로직을 담당하는 중요한 기능을 가지고 있습니다. 이 모듈은 저수준 모듈에 의존하는 대신, 추상화된 인터페이스에 의존해야 합니다.\n",
    "> - 저수준 모듈은 고수준 모듈에 의존해서는 안 된다.\n",
    "> - 저수준 모듈은 구체적인 구현을 담당하는 모듈입니다. 이 모듈은 추상화된 인터페이스를 구현하여 고수준 모듈이 이를 활용할 수 있도록 해야 합니다."
   ]
  },
  {
   "cell_type": "markdown",
   "metadata": {},
   "source": [
    "> 예시 1: 잘못된 예시\n",
    "> - 잘못된 예시 (DIP 미준수)\n",
    "> - 고수준 모듈이 저수준 모듈에 직접 의존하는 예시입니다."
   ]
  },
  {
   "cell_type": "code",
   "execution_count": null,
   "metadata": {},
   "outputs": [
    {
     "name": "stdout",
     "output_type": "stream",
     "text": [
      "LightBulb turned on\n"
     ]
    }
   ],
   "source": [
    "class LightBulb:\n",
    "    def turn_on(self):\n",
    "        print(\"LightBulb turned on\")\n",
    "\n",
    "    def turn_off(self):\n",
    "        print(\"LightBulb turned off\")\n",
    "\n",
    "\n",
    "class Switch:\n",
    "    def __init__(self, bulb):\n",
    "        self.bulb = bulb\n",
    "\n",
    "    def operate(self):\n",
    "        self.bulb.turn_on()  # Switch는 Bulb에 의존\n",
    "\n",
    "\n",
    "bulb = LightBulb()\n",
    "switch = Switch(bulb)\n",
    "switch.operate()"
   ]
  },
  {
   "cell_type": "markdown",
   "metadata": {},
   "source": [
    "> ### 문제점:\n",
    "> - Switch 클래스는 LightBulb 클래스에 직접 의존하고 있습니다. 만약 LightBulb 클래스를 변경하면, Switch 클래스도 수정해야 하므로 확장성이나 유연성이 떨어집니다."
   ]
  },
  {
   "cell_type": "markdown",
   "metadata": {},
   "source": [
    "> ### 올바른 예시 (Dependency Inversion Principle DIP 준수)\n",
    "> > 고수준 모듈과 저수준 모듈이 모두 추상화된 인터페이스에 의존하도록 수정합니다."
   ]
  },
  {
   "cell_type": "code",
   "execution_count": null,
   "metadata": {},
   "outputs": [
    {
     "name": "stdout",
     "output_type": "stream",
     "text": [
      "LightBulb turned on\n",
      "Fan turned on\n"
     ]
    }
   ],
   "source": [
    "from abc import ABC, abstractmethod\n",
    "\n",
    "\n",
    "class Switchable(ABC):  # 추상화된 인터페이스\n",
    "    @abstractmethod\n",
    "    def turn_on(self):\n",
    "        pass\n",
    "\n",
    "    @abstractmethod\n",
    "    def turn_off(self):\n",
    "        pass\n",
    "\n",
    "\n",
    "class LightBulb(Switchable):  # 추상화된 인터페이스를 구현\n",
    "    def turn_on(self):\n",
    "        print(\"LightBulb turned on\")\n",
    "\n",
    "    def turn_off(self):\n",
    "        print(\"LightBulb turned off\")\n",
    "\n",
    "\n",
    "class Fan(Switchable):  # 다른 저수준 모듈 구현\n",
    "    def turn_on(self):\n",
    "        print(\"Fan turned on\")\n",
    "\n",
    "    def turn_off(self):\n",
    "        print(\"Fan turned off\")\n",
    "\n",
    "\n",
    "class Switch:\n",
    "    def __init__(\n",
    "        self, device: Switchable\n",
    "    ):  ### device는 Switchable 인터페이스를 구현한 객체\n",
    "        self.device = device  # 고수준 모듈은 Switchable 인터페이스에 의존\n",
    "\n",
    "    def operate(self):\n",
    "        self.device.turn_on()\n",
    "\n",
    "\n",
    "# 객체 생성\n",
    "light_bulb = LightBulb()\n",
    "fan = Fan()\n",
    "\n",
    "light_switch = Switch(light_bulb)\n",
    "fan_switch = Switch(fan)\n",
    "\n",
    "light_switch.operate()  # LightBulb turned on\n",
    "fan_switch.operate()  # Fan turned on"
   ]
  }
 ],
 "metadata": {
  "kernelspec": {
   "display_name": "Python 3",
   "language": "python",
   "name": "python3"
  },
  "language_info": {
   "codemirror_mode": {
    "name": "ipython",
    "version": 3
   },
   "file_extension": ".py",
   "mimetype": "text/x-python",
   "name": "python",
   "nbconvert_exporter": "python",
   "pygments_lexer": "ipython3",
   "version": "3.11.10"
  }
 },
 "nbformat": 4,
 "nbformat_minor": 2
}
