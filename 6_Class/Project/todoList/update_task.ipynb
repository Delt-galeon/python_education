{
 "cells": [
  {
   "cell_type": "code",
   "execution_count": 2,
   "metadata": {},
   "outputs": [],
   "source": [
    "from task import Task\n",
    "from view_task import ViewTasks"
   ]
  },
  {
   "cell_type": "code",
   "execution_count": 3,
   "metadata": {},
   "outputs": [
    {
     "name": "stdout",
     "output_type": "stream",
     "text": [
      "\n",
      "--- 할 일 목록 ---\n",
      "[1] 그림 그리기 (미완료)\n",
      "[2] 책 읽기 (미완료)\n",
      "[3] 코딩하기 (미완료)\n"
     ]
    }
   ],
   "source": [
    "tasks=[Task(1, \"그림 그리기\"), Task(2, \"책 읽기\"), Task(3, \"코딩하기\")]\n",
    "view_task=ViewTasks(tasks)\n",
    "view_task.execute()"
   ]
  },
  {
   "cell_type": "code",
   "execution_count": null,
   "metadata": {},
   "outputs": [],
   "source": [
    "\n",
    "class UpdateTask:\n",
    "    def __init__(self, task_index, new_task_name, tasks):\n",
    "        self.task_index = task_index\n",
    "        self.new_task_name = new_task_name\n",
    "        self.tasks = tasks\n",
    "\n",
    "    def execute(self):\n",
    "        \"\"\"할 일 이름 수정\"\"\"\n",
    "        for task in self.tasks:\n",
    "            if task.index == self.task_index:\n",
    "                task.name = self.new_task_name\n",
    "                print(f\"할 일 '{self.task_index}'이 '{self.new_task_name}'로 수정되었습니다.\")\n",
    "                return # 할 일 인덱스를 찾았으면 밑의 print문을 생략 후 종료\n",
    "        print(f\"할 일 인덱스 '{self.task_index}'을 찾을 수 없습니다.\")"
   ]
  },
  {
   "cell_type": "code",
   "execution_count": 4,
   "metadata": {},
   "outputs": [
    {
     "name": "stdout",
     "output_type": "stream",
     "text": [
      "할 일 '2'이 'OIIAI OIIAI'로 수정되었습니다.\n",
      "\n",
      "--- 할 일 목록 ---\n",
      "[1] 그림 그리기 (미완료)\n",
      "[2] OIIAI OIIAI (미완료)\n",
      "[3] 코딩하기 (미완료)\n"
     ]
    }
   ],
   "source": [
    "updated_tack=UpdateTask(2, \"OIIAI OIIAI\", tasks)\n",
    "updated_tack.execute()\n",
    "\n",
    "view_task=ViewTasks(tasks)\n",
    "view_task.execute()"
   ]
  }
 ],
 "metadata": {
  "kernelspec": {
   "display_name": "Python 3",
   "language": "python",
   "name": "python3"
  },
  "language_info": {
   "codemirror_mode": {
    "name": "ipython",
    "version": 3
   },
   "file_extension": ".py",
   "mimetype": "text/x-python",
   "name": "python",
   "nbconvert_exporter": "python",
   "pygments_lexer": "ipython3",
   "version": "3.13.2"
  }
 },
 "nbformat": 4,
 "nbformat_minor": 2
}
