{
 "cells": [
  {
   "cell_type": "code",
   "execution_count": null,
   "metadata": {},
   "outputs": [],
   "source": [
    "from task import Task\n"
   ]
  },
  {
   "cell_type": "code",
   "execution_count": null,
   "metadata": {},
   "outputs": [],
   "source": [
    "class AddTask:\n",
    "    def __init__(self, task_name, tasks, index_counter):\n",
    "        self.task_name = task_name\n",
    "        self.tasks = tasks\n",
    "        self.index_counter = index_counter\n",
    "    def execute(self):\n",
    "        \"\"\"새로운 할 일 추가\"\"\"\n",
    "        task = Task(self.index_counter, self.task_name)\n",
    "        self.tasks.append(task)\n",
    "        self.index_counter += 1\n",
    "        print(f\"할 일 '{self.task_name}'가 추가되었습니다.\")"
   ]
  },
  {
   "cell_type": "code",
   "execution_count": 8,
   "metadata": {},
   "outputs": [
    {
     "name": "stdout",
     "output_type": "stream",
     "text": [
      "할 일 '파이썬 공부'가 추가되었습니다.\n",
      "[1] 파이썬 공부 (미완료)\n",
      "{'index': 1, 'name': '파이썬 공부', 'status': '미완료'}\n"
     ]
    }
   ],
   "source": [
    "tasks= []\n",
    "id=1\n",
    "\n",
    "task1= AddTask(\"파이썬 공부\", tasks, id)\n",
    "task1.execute()\n",
    "id+=1\n",
    "print(tasks[0])\n",
    "print(tasks[0].__dict__)"
   ]
  }
 ],
 "metadata": {
  "kernelspec": {
   "display_name": "Python 3",
   "language": "python",
   "name": "python3"
  },
  "language_info": {
   "codemirror_mode": {
    "name": "ipython",
    "version": 3
   },
   "file_extension": ".py",
   "mimetype": "text/x-python",
   "name": "python",
   "nbconvert_exporter": "python",
   "pygments_lexer": "ipython3",
   "version": "3.13.2"
  }
 },
 "nbformat": 4,
 "nbformat_minor": 2
}
