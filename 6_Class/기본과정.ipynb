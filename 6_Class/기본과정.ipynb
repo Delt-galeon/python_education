{
 "cells": [
  {
   "cell_type": "markdown",
   "metadata": {},
   "source": [
    "### 생성자 (Constructor)\n",
    "- 생성자는 객체가 생성될 때 자동으로 호출되는 메서드입니다. 주로 객체의 초기화 작업을 수행합니다. 생성자는 클래스 내에서 __init__ 메서드로 정의됩니다.\n",
    "\n",
    "- 목적: 객체가 생성될 때, 객체의 초기 상태를 설정하거나 필요한 값을 할당하는 데 사용됩니다.\n",
    "- 문법: def __init__(self, ...) 형식으로 정의됩니다."
   ]
  },
  {
   "cell_type": "code",
   "execution_count": null,
   "metadata": {},
   "outputs": [
    {
     "name": "stdout",
     "output_type": "stream",
     "text": [
      "Brand: Toyota, Model: Corolla\n"
     ]
    }
   ],
   "source": [
    "class Car:\n",
    "    def __init__(self, brand, model):\n",
    "        self.brand = brand  # 브랜드\n",
    "        self.model = model  # 모델\n",
    "\n",
    "    def display_info(self):\n",
    "        return f\"Brand: {self.brand}, Model: {self.model}\"\n",
    "\n",
    "\n",
    "# 객체 생성 시 __init__ 호출\n",
    "car = Car(\"Toyota\", \"Corolla\")\n",
    "print(car.display_info())  # Brand: Toyota, Model: Corolla"
   ]
  },
  {
   "cell_type": "code",
   "execution_count": null,
   "metadata": {},
   "outputs": [],
   "source": [
    "class Person:\n",
    "    def __init__(self, name, age):\n",
    "        self.name = name\n",
    "        self.age = age"
   ]
  },
  {
   "cell_type": "code",
   "execution_count": null,
   "metadata": {},
   "outputs": [],
   "source": [
    "person = Person(name=\"kim jong phil\", age=20)"
   ]
  },
  {
   "cell_type": "code",
   "execution_count": null,
   "metadata": {},
   "outputs": [
    {
     "name": "stdout",
     "output_type": "stream",
     "text": [
      "kim jong phil 20\n"
     ]
    }
   ],
   "source": [
    "print(f\"{person.name} {person.age}\")"
   ]
  },
  {
   "cell_type": "code",
   "execution_count": null,
   "metadata": {},
   "outputs": [],
   "source": [
    "class Dog:\n",
    "    def __init__(self, name, breed):\n",
    "        self.name = name\n",
    "        self.breed = breed\n",
    "\n",
    "    def bark(self):\n",
    "        print(f\"{self.name} :says woof!\")\n",
    "\n",
    "    def introduce(self):\n",
    "        print(f\"{self.name} and I am a {self.breed}!\")"
   ]
  },
  {
   "cell_type": "code",
   "execution_count": 2,
   "metadata": {},
   "outputs": [
    {
     "name": "stdout",
     "output_type": "stream",
     "text": [
      "Buddy :says woof!\n",
      "Max and I am a Bulldog!\n"
     ]
    }
   ],
   "source": [
    "dog1 = Dog(\"Buddy\", \"Golden Retiever \")\n",
    "dog2 = Dog(\"Max\", \"Bulldog\")\n",
    "\n",
    "dog1.bark()\n",
    "dog2.introduce()"
   ]
  },
  {
   "cell_type": "markdown",
   "metadata": {},
   "source": [
    "### 소멸자 (Destructor)\n",
    "- 소멸자는 객체가 소멸될 때 호출되는 메서드입니다. Python에서는 __del__() 메서드를 소멸자로 사용합니다. 소멸자는 객체가 더 이상 사용되지 않을 때, 객체가 메모리에서 제거되기 전에 필요한 정리 작업을 수행할 수 있습니다.\n",
    "\n",
    "- 목적: 객체가 소멸될 때 자원 해제나 마지막 작업을 할 때 사용됩니다.\n",
    "- 문법: def __del__(self) 형식으로 정의됩니다.\n",
    "- 주의: Python은 자동 메모리 관리를 수행하기 때문에, 소멸자는 자주 사용되지 않습니다."
   ]
  },
  {
   "cell_type": "code",
   "execution_count": 33,
   "metadata": {},
   "outputs": [
    {
     "name": "stdout",
     "output_type": "stream",
     "text": [
      "Toyota Corolla is being destroyed.\n",
      "Honda Civic is being destroyed.\n",
      "Car Count: 0\n",
      "Corolla\n",
      "Civic\n",
      "Car Count: 0\n"
     ]
    }
   ],
   "source": [
    "class Car:\n",
    "    car_count = 0\n",
    "    def __init__(self, brand, model):\n",
    "        Car.car_count += 1\n",
    "        self.brand = brand\n",
    "        self.model = model\n",
    "\n",
    "    def __del__(self):\n",
    "        if (Car.car_count > 0):\n",
    "            Car.car_count -= 1\n",
    "        print(f\"{self.brand} {self.model} is being destroyed.\")\n",
    "\n",
    "\n",
    "# 객체 생성\n",
    "car_1=Car(\"Toyota\", \"Corolla\")\n",
    "car_2=Car(\"Honda\", \"Civic\")\n",
    "print(f\"Car Count: {Car.car_count}\")\n",
    "\n",
    "for car in [car_1, car_2]:\n",
    "    print(car.model)\n",
    "# 객체가 소멸되면 __del__이 호출됨\n",
    "del car  # Honda Civic is being destroyed.\n",
    "print(f\"Car Count: {Car.car_count}\")"
   ]
  },
  {
   "cell_type": "markdown",
   "metadata": {},
   "source": [
    "### super() 함수\n",
    "- super()는 상속 관계에서 부모 클래스의 메서드를 호출할 때 사용됩니다. 특히, 메서드 오버라이딩(자식 클래스에서 부모 클래스의 메서드를 덮어쓰는 경우) 시에 부모 클래스의 메서드를 호출하려면 super()를 사용합니다.\n",
    "- 목적\n",
    "- 자식 클래스에서 부모 클래스의 메서드를 호출하거나, 부모 클래스의 속성에 접근할 때 사용합니다.\n",
    "- 다중 상속 시, **메서드 탐색 순서(MRO)**를 따르며 부모 클래스의 메서드를 정확하게 호출합니다."
   ]
  },
  {
   "cell_type": "code",
   "execution_count": 41,
   "metadata": {},
   "outputs": [
    {
     "name": "stdout",
     "output_type": "stream",
     "text": [
      "Dog makes a sound. and dodge Woof!\n"
     ]
    }
   ],
   "source": [
    "class Animal:\n",
    "    def __init__(self, species):\n",
    "        self.species = species\n",
    "\n",
    "    def speak(self):\n",
    "        return f\"{self.species} makes a sound.\"\n",
    "\n",
    "\n",
    "class Dog(Animal):\n",
    "    def __init__(self, name):\n",
    "        super().__init__(species=\"Dog\")\n",
    "        self.name = name\n",
    "    def speak(self):\n",
    "        return f\"{super().speak()} and {self.name} Woof!\"\n",
    "\n",
    "\n",
    "# 객체 생성\n",
    "dog = Dog(\"dodge\")\n",
    "print(dog.speak())  # Animal makes a sound. Woof!"
   ]
  },
  {
   "cell_type": "code",
   "execution_count": 47,
   "metadata": {},
   "outputs": [],
   "source": [
    "class Person:\n",
    "    def __init__(self, name, job):\n",
    "        self.name = name\n",
    "        self.job = job\n",
    "\n",
    "    def introduce(self):\n",
    "        print(f\"{self.name} {self.job}\")\n",
    "\n",
    "\n",
    "class Actor(Person):\n",
    "    def __init__(self, name, best_movie):\n",
    "        super().__init__(name, job=\"배우\")\n",
    "        self.best_movie = best_movie\n",
    "\n",
    "    def introduce(self):\n",
    "        super().introduce()\n",
    "        print(f\"대표 작품은 {self.best_movie}\")\n",
    "\n"
   ]
  },
  {
   "cell_type": "code",
   "execution_count": 48,
   "metadata": {},
   "outputs": [
    {
     "name": "stdout",
     "output_type": "stream",
     "text": [
      "송강호 배우\n",
      "대표 작품은 기생충\n"
     ]
    }
   ],
   "source": [
    "\n",
    "actor_song = Actor(\"송강호\", best_movie=\"기생충\")\n",
    "\n",
    "actor_song.introduce()"
   ]
  },
  {
   "cell_type": "markdown",
   "metadata": {},
   "source": [
    "## Person / Actor "
   ]
  },
  {
   "cell_type": "code",
   "execution_count": null,
   "metadata": {},
   "outputs": [],
   "source": [
    "class Person:\n",
    "    def __init__(self, name, job):\n",
    "        self.name = name\n",
    "        self.job = job\n",
    "\n",
    "    def introduce(self):\n",
    "        print(f\"제 이름은 {self.name} 입니다. 직업은 {self.job} 입니다.\")\n",
    "\n",
    "\n",
    "class Actor(Person):\n",
    "    def __init__(self, name, best_movie):\n",
    "        super().__init__(name, \"배우\")\n",
    "        self.best_movie = best_movie\n",
    "\n",
    "    def filmography(self):\n",
    "        print(f\"대표 작품은 {self.best_movie} 입니다.\")"
   ]
  },
  {
   "cell_type": "code",
   "execution_count": null,
   "metadata": {},
   "outputs": [
    {
     "name": "stdout",
     "output_type": "stream",
     "text": [
      "제 이름은 정국 입니다. 직업은 학생 입니다.\n",
      "제 이름은 박명수 입니다. 직업은 배우 입니다.\n",
      "대표 작품은 betman 입니다.\n"
     ]
    }
   ],
   "source": [
    "if __name__ == \"__main__\":\n",
    "\n",
    "    jungkook = Person(\"정국\", \"학생\")\n",
    "    jungkook.introduce()\n",
    "\n",
    "    actor = Actor(\"박명수\", \"betman\")\n",
    "    actor.introduce()\n",
    "    actor.filmography()"
   ]
  },
  {
   "cell_type": "markdown",
   "metadata": {},
   "source": [
    "## Student (학생 관리)"
   ]
  },
  {
   "cell_type": "code",
   "execution_count": null,
   "metadata": {},
   "outputs": [],
   "source": [
    "class Student:\n",
    "    \"\"\"\n",
    "    Student class with attributes name, age, grade\n",
    "    Author : Kim\n",
    "    Date : 2025-01-24\n",
    "    \"\"\"\n",
    "\n",
    "    _student_count = 0\n",
    "\n",
    "    def __init__(self, name, age, grade):\n",
    "        self.name = name\n",
    "        self.age = age\n",
    "        self.grade = grade\n",
    "        Student._student_count += 1\n",
    "\n",
    "    def get_info(self):\n",
    "        return f\"Student Name : {self.name}, Age : {self.age}, Grade : {self.grade}\"\n",
    "\n",
    "    @classmethod\n",
    "    def get_student_count(cls):\n",
    "        return cls._student_count\n",
    "\n",
    "    @staticmethod\n",
    "    def is_adult(age):\n",
    "        return age >= 20\n",
    "\n",
    "    def __str__(self):\n",
    "        return \"Student Name : {self.name}, Age : {self.age}, Grade:{self.grade}\"\n",
    "\n",
    "    def __del__(self):\n",
    "        Student._student_count -= 1"
   ]
  },
  {
   "cell_type": "code",
   "execution_count": null,
   "metadata": {},
   "outputs": [
    {
     "name": "stdout",
     "output_type": "stream",
     "text": [
      "Student Name : Student 1, Age : 20, Grade : 3\n",
      "0\n",
      "Student Name : Student 2, Age : 23, Grade : 1\n",
      "0\n"
     ]
    }
   ],
   "source": [
    "student1 = Student(name=\"Student 1\", age=20, grade=3)\n",
    "print(student1.get_info())\n",
    "print(Student.get_student_count())\n",
    "\n",
    "student2 = Student(name=\"Student 2\", age=23, grade=1)\n",
    "print(student2.get_info())\n",
    "print(Student.get_student_count())"
   ]
  },
  {
   "cell_type": "code",
   "execution_count": 9,
   "metadata": {},
   "outputs": [
    {
     "name": "stdout",
     "output_type": "stream",
     "text": [
      "Student Name : {self.name}, Age : {self.age}, Grade:{self.grade}\n"
     ]
    }
   ],
   "source": [
    "print(student1)"
   ]
  },
  {
   "cell_type": "code",
   "execution_count": 4,
   "metadata": {},
   "outputs": [
    {
     "name": "stdout",
     "output_type": "stream",
     "text": [
      "{'name': 'Student 1', 'age': 20, 'grade': 3}\n"
     ]
    }
   ],
   "source": [
    "print(student1.__dict__)"
   ]
  },
  {
   "cell_type": "code",
   "execution_count": 8,
   "metadata": {},
   "outputs": [
    {
     "name": "stdout",
     "output_type": "stream",
     "text": [
      "['__class__', '__del__', '__delattr__', '__dict__', '__dir__', '__doc__', '__eq__', '__format__', '__ge__', '__getattribute__', '__getstate__', '__gt__', '__hash__', '__init__', '__init_subclass__', '__le__', '__lt__', '__module__', '__ne__', '__new__', '__reduce__', '__reduce_ex__', '__repr__', '__setattr__', '__sizeof__', '__str__', '__subclasshook__', '__weakref__', 'age', 'get_info', 'get_student_count', 'grade', 'is_adult', 'name', 'student_count']\n"
     ]
    }
   ],
   "source": [
    "print(dir(student1))"
   ]
  },
  {
   "cell_type": "code",
   "execution_count": 12,
   "metadata": {},
   "outputs": [
    {
     "name": "stdout",
     "output_type": "stream",
     "text": [
      "\n",
      "    Student class with attributes name, age, grade\n",
      "    Author : Kim\n",
      "    Date : 2025-01-24\n",
      "    \n"
     ]
    }
   ],
   "source": [
    "print(Student.__doc__)"
   ]
  },
  {
   "cell_type": "code",
   "execution_count": 13,
   "metadata": {},
   "outputs": [
    {
     "data": {
      "text/plain": [
       "'Student Name : Student 1, Age : 20, Grade : 3'"
      ]
     },
     "execution_count": 13,
     "metadata": {},
     "output_type": "execute_result"
    }
   ],
   "source": [
    "Student.get_info(student1)"
   ]
  },
  {
   "cell_type": "code",
   "execution_count": null,
   "metadata": {},
   "outputs": [],
   "source": [
    "Student.student_count = 100"
   ]
  },
  {
   "cell_type": "code",
   "execution_count": 15,
   "metadata": {},
   "outputs": [
    {
     "name": "stdout",
     "output_type": "stream",
     "text": [
      "100\n"
     ]
    }
   ],
   "source": [
    "print(Student.get_student_count())"
   ]
  },
  {
   "cell_type": "code",
   "execution_count": null,
   "metadata": {},
   "outputs": [
    {
     "data": {
      "text/plain": [
       "[2, 6, 10]"
      ]
     },
     "execution_count": 11,
     "metadata": {},
     "output_type": "execute_result"
    }
   ],
   "source": [
    "list(map(lambda y: y * 2, filter(lambda x: x % 2, range(1, 6))))"
   ]
  },
  {
   "cell_type": "markdown",
   "metadata": {},
   "source": [
    "### 1. 코드의 재사용성 (Reusability)\n",
    "- 클래스를 사용하면 코드를 재사용할 수 있습니다. 동일한 구조와 동작을 가진 여러 객체를 만들 수 있고, 중복된 코드를 줄이고 유기적으로 관리할 수 있습니다."
   ]
  },
  {
   "cell_type": "code",
   "execution_count": 2,
   "metadata": {},
   "outputs": [
    {
     "name": "stdout",
     "output_type": "stream",
     "text": [
      "Tesla Model S is driving.\n",
      "BMW X5 is driving.\n"
     ]
    }
   ],
   "source": [
    "class Car:\n",
    "    def __init__(self, brand, model):\n",
    "        self.brand = brand\n",
    "        self.model = model\n",
    "\n",
    "    def drive(self):\n",
    "        return f\"{self.brand} {self.model} is driving.\"\n",
    "\n",
    "\n",
    "# 객체 생성 및 코드 재사용\n",
    "car1 = Car(\"Tesla\", \"Model S\")\n",
    "car2 = Car(\"BMW\", \"X5\")\n",
    "\n",
    "print(car1.drive())  # Tesla Model S is driving.\n",
    "print(car2.drive())  # BMW X5 is driving."
   ]
  },
  {
   "cell_type": "code",
   "execution_count": 3,
   "metadata": {},
   "outputs": [
    {
     "name": "stdout",
     "output_type": "stream",
     "text": [
      "Tesla Model S is driving.\n",
      "BMW X5 is driving.\n"
     ]
    }
   ],
   "source": [
    "class Car:\n",
    "    def __init__(self, brand, model):\n",
    "        self.brand = brand\n",
    "        self.model = model\n",
    "\n",
    "    def drive(self):\n",
    "        return f\"{self.brand} {self.model} is driving.\"\n",
    "\n",
    "\n",
    "# 객체 생성 및 코드 재사용\n",
    "car1 = Car(\"Tesla\", \"Model S\")\n",
    "car2 = Car(\"BMW\", \"X5\")\n",
    "\n",
    "print(car1.drive())  # Tesla Model S is driving.\n",
    "print(car2.drive())  # BMW X5 is driving."
   ]
  },
  {
   "cell_type": "markdown",
   "metadata": {},
   "source": [
    "### 2. 모델화 (Modeling)\n",
    "- 클래스를 사용하여 현실 세계의 개념을 모델링할 수 있습니다. 각 클래스는 현실의 객체를 추상화하여 속성과 기능을 가질 수 있습니다."
   ]
  },
  {
   "cell_type": "code",
   "execution_count": 5,
   "metadata": {},
   "outputs": [
    {
     "name": "stdout",
     "output_type": "stream",
     "text": [
      "Alice is studying for grade A.\n",
      "Bob is studying for grade B.\n"
     ]
    }
   ],
   "source": [
    "class Student:\n",
    "    def __init__(self, name, grade):\n",
    "        self.name = name\n",
    "        self.grade = grade\n",
    "\n",
    "    def study(self):\n",
    "        return f\"{self.name} is studying for grade {self.grade}.\"\n",
    "\n",
    "\n",
    "# 학생 객체 모델링\n",
    "student1 = Student(\"Alice\", \"A\")\n",
    "student2 = Student(\"Bob\", \"B\")\n",
    "\n",
    "print(student1.study())  # Alice is studying for grade A.\n",
    "print(student2.study())  # Bob is studying for grade B."
   ]
  },
  {
   "cell_type": "code",
   "execution_count": 4,
   "metadata": {},
   "outputs": [
    {
     "name": "stdout",
     "output_type": "stream",
     "text": [
      "1984 by George Orwell\n",
      "The Great Gatsby by F. Scott Fitzgerald\n"
     ]
    }
   ],
   "source": [
    "class Book:\n",
    "    def __init__(self, title, author):\n",
    "        self.title = title\n",
    "        self.author = author\n",
    "\n",
    "    def description(self):\n",
    "        return f\"{self.title} by {self.author}\"\n",
    "\n",
    "\n",
    "# 도서 객체 모델링\n",
    "book1 = Book(\"1984\", \"George Orwell\")\n",
    "book2 = Book(\"The Great Gatsby\", \"F. Scott Fitzgerald\")\n",
    "\n",
    "print(book1.description())  # 1984 by George Orwell\n",
    "print(book2.description())  # The Great Gatsby by F. Scott Fitzgerald"
   ]
  },
  {
   "cell_type": "markdown",
   "metadata": {},
   "source": [
    "### 3. 캡슐화 (Encapsulation)\n",
    "- 클래스는 속성과 메서드를 하나로 묶어 외부에서 접근할 수 없는 내부 구현을 숨기고, 인터페이스만 제공할 수 있습니다."
   ]
  },
  {
   "cell_type": "code",
   "execution_count": 6,
   "metadata": {},
   "outputs": [
    {
     "name": "stdout",
     "output_type": "stream",
     "text": [
      "Deposited 500. New balance: 1500\n",
      "Your balance is: 1500\n"
     ]
    }
   ],
   "source": [
    "class BankAccount:\n",
    "    def __init__(self, balance):\n",
    "        self.__balance = balance  # private 속성\n",
    "\n",
    "    def deposit(self, amount):\n",
    "        if amount > 0:\n",
    "            self.__balance += amount\n",
    "            return f\"Deposited {amount}. New balance: {self.__balance}\"\n",
    "        return \"Deposit amount must be positive.\"\n",
    "\n",
    "    def get_balance(self):\n",
    "        return f\"Your balance is: {self.__balance}\"\n",
    "\n",
    "\n",
    "# 은행 계좌 객체 캡슐화\n",
    "account = BankAccount(1000)\n",
    "print(account.deposit(500))  # Deposited 500. New balance: 1500\n",
    "print(account.get_balance())  # Your balance is: 1500"
   ]
  },
  {
   "cell_type": "markdown",
   "metadata": {},
   "source": [
    "### 4. 상속 (Inheritance)\n",
    "- 클래스는 다른 클래스를 상속받아 새로운 클래스를 만들 수 있습니다. 상속을 통해 기존 클래스를 재사용하면서 새로운 기능을 추가할 수 있습니다."
   ]
  },
  {
   "cell_type": "code",
   "execution_count": 7,
   "metadata": {},
   "outputs": [
    {
     "name": "stdout",
     "output_type": "stream",
     "text": [
      "Buddy barks.\n",
      "Whiskers meows.\n"
     ]
    }
   ],
   "source": [
    "class Animal:\n",
    "    def __init__(self, name):\n",
    "        self.name = name\n",
    "\n",
    "    def speak(self):\n",
    "        return f\"{self.name} makes a sound.\"\n",
    "\n",
    "\n",
    "class Dog(Animal):\n",
    "    def speak(self):\n",
    "        return f\"{self.name} barks.\"\n",
    "\n",
    "\n",
    "class Cat(Animal):\n",
    "    def speak(self):\n",
    "        return f\"{self.name} meows.\"\n",
    "\n",
    "\n",
    "# 상속받은 클래스 객체 생성\n",
    "dog = Dog(\"Buddy\")\n",
    "cat = Cat(\"Whiskers\")\n",
    "\n",
    "print(dog.speak())  # Buddy barks.\n",
    "print(cat.speak())  # Whiskers meows."
   ]
  },
  {
   "cell_type": "code",
   "execution_count": 8,
   "metadata": {},
   "outputs": [
    {
     "name": "stdout",
     "output_type": "stream",
     "text": [
      "Toyota car is driving.\n",
      "Trek bike is pedaling.\n"
     ]
    }
   ],
   "source": [
    "class Vehicle:\n",
    "    def __init__(self, brand):\n",
    "        self.brand = brand\n",
    "\n",
    "    def move(self):\n",
    "        return f\"{self.brand} is moving.\"\n",
    "\n",
    "\n",
    "class Car(Vehicle):\n",
    "    def move(self):\n",
    "        return f\"{self.brand} car is driving.\"\n",
    "\n",
    "\n",
    "class Bike(Vehicle):\n",
    "    def move(self):\n",
    "        return f\"{self.brand} bike is pedaling.\"\n",
    "\n",
    "\n",
    "# 상속받은 클래스 객체 생성\n",
    "car = Car(\"Toyota\")\n",
    "bike = Bike(\"Trek\")\n",
    "\n",
    "print(car.move())  # Toyota car is driving.\n",
    "print(bike.move())  # Trek bike is pedaling."
   ]
  },
  {
   "cell_type": "markdown",
   "metadata": {},
   "source": [
    "### 5. 다형성 (Polymorphism)\n",
    "- 클래스는 다형성을 지원하여, 같은 이름의 메서드가 서로 다른 클래스에서 다르게 동작할 수 있습니다. 이는 유연한 코드를 작성하는 데 도움이 됩니다."
   ]
  },
  {
   "cell_type": "code",
   "execution_count": 9,
   "metadata": {},
   "outputs": [
    {
     "name": "stdout",
     "output_type": "stream",
     "text": [
      "Woof!\n",
      "Meow!\n"
     ]
    }
   ],
   "source": [
    "class Animal:\n",
    "    def speak(self):\n",
    "        return \"Animal makes a sound.\"\n",
    "\n",
    "\n",
    "class Dog(Animal):\n",
    "    def speak(self):\n",
    "        return \"Woof!\"\n",
    "\n",
    "\n",
    "class Cat(Animal):\n",
    "    def speak(self):\n",
    "        return \"Meow!\"\n",
    "\n",
    "\n",
    "# 다형성을 이용한 메서드 호출\n",
    "animals = [Dog(), Cat()]\n",
    "\n",
    "for animal in animals:\n",
    "    print(animal.speak())"
   ]
  },
  {
   "cell_type": "code",
   "execution_count": 10,
   "metadata": {},
   "outputs": [
    {
     "name": "stdout",
     "output_type": "stream",
     "text": [
      "78.5\n",
      "16\n"
     ]
    }
   ],
   "source": [
    "class Shape:\n",
    "    def area(self):\n",
    "        return 0\n",
    "\n",
    "\n",
    "class Circle(Shape):\n",
    "    def __init__(self, radius):\n",
    "        self.radius = radius\n",
    "\n",
    "    def area(self):\n",
    "        return 3.14 * self.radius * self.radius\n",
    "\n",
    "\n",
    "class Square(Shape):\n",
    "    def __init__(self, side):\n",
    "        self.side = side\n",
    "\n",
    "    def area(self):\n",
    "        return self.side * self.side\n",
    "\n",
    "\n",
    "# 다형성을 이용한 면적 계산\n",
    "shapes = [Circle(5), Square(4)]\n",
    "\n",
    "for shape in shapes:\n",
    "    print(shape.area())"
   ]
  },
  {
   "cell_type": "markdown",
   "metadata": {},
   "source": [
    "### 1. 클래스 변수와 인스턴스 변수\n",
    "- 인스턴스 변수 (Instance Variables)\n",
    "- 인스턴스 변수는 **클래스의 인스턴스(객체)**가 가지는 변수입니다.\n",
    "- 각 객체는 자신만의 인스턴스 변수를 가지고 있으며, 객체가 생성될 때 초기화됩니다.\n",
    "- self를 사용하여 접근하고, 객체마다 다른 값을 가질 수 있습니다."
   ]
  },
  {
   "cell_type": "code",
   "execution_count": 11,
   "metadata": {},
   "outputs": [
    {
     "name": "stdout",
     "output_type": "stream",
     "text": [
      "Alice\n",
      "Bob\n"
     ]
    }
   ],
   "source": [
    "class Student:\n",
    "    def __init__(self, name, age):\n",
    "        self.name = name  # 인스턴스 변수\n",
    "        self.age = age  # 인스턴스 변수\n",
    "\n",
    "\n",
    "# 객체 생성\n",
    "student1 = Student(\"Alice\", 20)\n",
    "student2 = Student(\"Bob\", 22)\n",
    "\n",
    "# 각 객체는 다른 값의 인스턴스 변수를 가짐\n",
    "print(student1.name)  # Alice\n",
    "print(student2.name)  # Bob"
   ]
  },
  {
   "cell_type": "code",
   "execution_count": 12,
   "metadata": {},
   "outputs": [
    {
     "name": "stdout",
     "output_type": "stream",
     "text": [
      "2\n"
     ]
    }
   ],
   "source": [
    "class Student:\n",
    "    student_count = 0  # 클래스 변수\n",
    "\n",
    "    def __init__(self, name, age):\n",
    "        self.name = name\n",
    "        self.age = age\n",
    "        Student.student_count += 1  # 학생 수 증가\n",
    "\n",
    "\n",
    "# 객체 생성\n",
    "student1 = Student(\"Alice\", 20)\n",
    "student2 = Student(\"Bob\", 22)\n",
    "\n",
    "# 모든 객체에서 같은 클래스 변수에 접근\n",
    "print(Student.student_count)  # 2"
   ]
  },
  {
   "cell_type": "markdown",
   "metadata": {},
   "source": [
    "## 클래스 변수와 인스턴스 변수에서 메서드 접근자 사용 예시\n",
    "- 예시: 학생 클래스에서 나이를 인스턴스 변수로 관리하고, student_count를 클래스 변수로 관리"
   ]
  },
  {
   "cell_type": "code",
   "execution_count": 13,
   "metadata": {},
   "outputs": [
    {
     "name": "stdout",
     "output_type": "stream",
     "text": [
      "20\n",
      "25\n",
      "2\n"
     ]
    }
   ],
   "source": [
    "class Student:\n",
    "    student_count = 0  # 클래스 변수\n",
    "\n",
    "    def __init__(self, name, age):\n",
    "        self.name = name\n",
    "        self.__age = age  # private 속성\n",
    "        Student.student_count += 1\n",
    "\n",
    "    def get_age(self):  # getter\n",
    "        return self.__age\n",
    "\n",
    "    def set_age(self, age):  # setter\n",
    "        if age > 0:\n",
    "            self.__age = age\n",
    "        else:\n",
    "            print(\"나이는 0보다 커야 합니다.\")\n",
    "\n",
    "\n",
    "# 객체 생성\n",
    "student1 = Student(\"Alice\", 20)\n",
    "student2 = Student(\"Bob\", 22)\n",
    "\n",
    "# 인스턴스 변수와 메서드 접근자 사용\n",
    "print(student1.get_age())  # 20\n",
    "student1.set_age(25)\n",
    "print(student1.get_age())  # 25\n",
    "\n",
    "# 클래스 변수 접근\n",
    "print(Student.student_count)  # 2"
   ]
  },
  {
   "cell_type": "markdown",
   "metadata": {},
   "source": [
    "### Public 변수\n",
    "- Public 변수는 클래스 외부에서 자유롭게 접근할 수 있는 변수입니다.\n",
    "- public 변수는 특별한 제약 없이 읽고, 수정할 수 있습니다.\n",
    "- Python에서는 기본적으로 모든 속성이 public으로 설정됩니다."
   ]
  },
  {
   "cell_type": "code",
   "execution_count": 18,
   "metadata": {},
   "outputs": [
    {
     "name": "stdout",
     "output_type": "stream",
     "text": [
      "Toyota\n",
      "Camry\n",
      "Honda\n",
      "Civic\n"
     ]
    }
   ],
   "source": [
    "class Car:\n",
    "    def __init__(self, brand, model):\n",
    "        self.brand = brand  # Public 변수\n",
    "        self.model = model  # Public 변수\n",
    "\n",
    "\n",
    "# 객체 생성\n",
    "car = Car(\"Toyota\", \"Camry\")\n",
    "\n",
    "# 외부에서 속성에 자유롭게 접근\n",
    "print(car.brand)  # Toyota\n",
    "print(car.model)  # Camry\n",
    "\n",
    "# 외부에서 값 변경 가능\n",
    "car.brand = \"Honda\"\n",
    "car.model = \"Civic\"\n",
    "print(car.brand)  # Honda\n",
    "print(car.model)  # Civic"
   ]
  },
  {
   "cell_type": "markdown",
   "metadata": {},
   "source": [
    "### Private 변수\n",
    "- Private 변수는 클래스 외부에서 접근할 수 없는 변수입니다. 객체 외부에서 직접 접근을 방지하려면 변수 이름 앞에 언더스코어 두 개(__)를 붙여야 합니다.\n",
    "- Python에서 private 변수는 접근 제어가 강제되지 않지만, 언더스코어를 사용하여 변수의 외부 접근을 권장하지 않습니다. 이렇게 하면 외부에서 직접적으로 접근하지 않도록 하여 데이터 은닉을 실현할 수 있습니다."
   ]
  },
  {
   "cell_type": "code",
   "execution_count": 19,
   "metadata": {},
   "outputs": [
    {
     "name": "stdout",
     "output_type": "stream",
     "text": [
      "Toyota\n",
      "Camry\n",
      "Honda\n",
      "Civic\n"
     ]
    }
   ],
   "source": [
    "class Car:\n",
    "    def __init__(self, brand, model):\n",
    "        self.__brand = brand  # Private 변수\n",
    "        self.__model = model  # Private 변수\n",
    "\n",
    "    def get_brand(self):\n",
    "        return self.__brand\n",
    "\n",
    "    def get_model(self):\n",
    "        return self.__model\n",
    "\n",
    "    def set_brand(self, brand):\n",
    "        self.__brand = brand\n",
    "\n",
    "    def set_model(self, model):\n",
    "        self.__model = model\n",
    "\n",
    "\n",
    "# 객체 생성\n",
    "car = Car(\"Toyota\", \"Camry\")\n",
    "\n",
    "# 직접 접근 시도\n",
    "# print(car.__brand)  # 오류 발생: 'Car' 객체에는 '__brand' 속성이 없습니다.\n",
    "\n",
    "# getter를 통해 접근\n",
    "print(car.get_brand())  # Toyota\n",
    "print(car.get_model())  # Camry\n",
    "\n",
    "# setter를 통해 수정\n",
    "car.set_brand(\"Honda\")\n",
    "car.set_model(\"Civic\")\n",
    "\n",
    "# 변경된 값 출력\n",
    "print(car.get_brand())  # Honda\n",
    "print(car.get_model())  # Civic"
   ]
  },
  {
   "cell_type": "markdown",
   "metadata": {},
   "source": [
    "## 1. 클래스 메소드 (Class Method)\n",
    "- 개념:\n",
    "- 클래스 메소드는 클래스에 바인딩된 메소드입니다. 즉, 클래스 자체를 첫 번째 매개변수로 받습니다.\n",
    "- 클래스 메소드는 클래스 변수나 클래스 자체에 대한 접근이 필요할 때 사용됩니다.\n",
    "- @classmethod 데코레이터를 사용하여 정의합니다.\n",
    "- 첫 번째 매개변수로 **cls**를 사용하여 클래스 자체를 참조합니다."
   ]
  },
  {
   "cell_type": "code",
   "execution_count": 14,
   "metadata": {},
   "outputs": [
    {
     "name": "stdout",
     "output_type": "stream",
     "text": [
      "Total cars: 2\n"
     ]
    }
   ],
   "source": [
    "class Car:\n",
    "    count = 0  # 클래스 변수\n",
    "\n",
    "    def __init__(self, brand, model):\n",
    "        self.brand = brand\n",
    "        self.model = model\n",
    "        Car.count += 1  # 자동차 객체가 생성될 때마다 클래스 변수 증가\n",
    "\n",
    "    @classmethod\n",
    "    def get_count(cls):\n",
    "        return f\"Total cars: {cls.count}\"\n",
    "\n",
    "\n",
    "# 객체 생성\n",
    "car1 = Car(\"Toyota\", \"Corolla\")\n",
    "car2 = Car(\"Honda\", \"Civic\")\n",
    "\n",
    "# 클래스 메소드 호출\n",
    "print(Car.get_count())  # Total cars: 2"
   ]
  },
  {
   "cell_type": "markdown",
   "metadata": {},
   "source": [
    "### 2. 정적 메소드 (Static Method)\n",
    "- 개념:\n",
    "- 정적 메소드는 클래스나 객체에 의존하지 않는 메소드입니다. 즉, 클래스나 객체의 상태와 상관없이 독립적으로 작동하는 메소드입니다.\n",
    "- @staticmethod 데코레이터를 사용하여 정의합니다.\n",
    "- 첫 번째 매개변수로 self나 cls를 사용하지 않으며, 일반적인 함수처럼 작동합니다.\n",
    "- 주로 클래스 외부에서 독립적인 작업을 할 때 사용됩니다."
   ]
  },
  {
   "cell_type": "code",
   "execution_count": 15,
   "metadata": {},
   "outputs": [
    {
     "name": "stdout",
     "output_type": "stream",
     "text": [
      "7\n",
      "12\n"
     ]
    }
   ],
   "source": [
    "class MathOperations:\n",
    "\n",
    "    @staticmethod\n",
    "    def add(x, y):\n",
    "        return x + y\n",
    "\n",
    "    @staticmethod\n",
    "    def multiply(x, y):\n",
    "        return x * y\n",
    "\n",
    "\n",
    "# 정적 메소드 호출\n",
    "print(MathOperations.add(3, 4))  # 7\n",
    "print(MathOperations.multiply(3, 4))  # 12"
   ]
  },
  {
   "cell_type": "markdown",
   "metadata": {},
   "source": [
    "### 3. Public 메소드와 Private 메소드\n",
    "- Public 메소드\n",
    "- Public 메소드는 클래스 외부에서 자유롭게 호출할 수 있는 메소드입니다.\n",
    "- 기본적으로 모든 메소드는 public으로 정의됩니다.\n",
    "- 클래스 외부에서 객체를 통해 메소드에 접근할 수 있습니다."
   ]
  },
  {
   "cell_type": "code",
   "execution_count": 16,
   "metadata": {},
   "outputs": [
    {
     "name": "stdout",
     "output_type": "stream",
     "text": [
      "Toyota Corolla is starting.\n"
     ]
    }
   ],
   "source": [
    "class Car:\n",
    "    def __init__(self, brand, model):\n",
    "        self.brand = brand\n",
    "        self.model = model\n",
    "\n",
    "    def start(self):  # Public 메소드\n",
    "        return f\"{self.brand} {self.model} is starting.\"\n",
    "\n",
    "\n",
    "# 객체 생성\n",
    "car = Car(\"Toyota\", \"Corolla\")\n",
    "print(car.start())  # Toyota Corolla is starting."
   ]
  },
  {
   "cell_type": "markdown",
   "metadata": {},
   "source": [
    "- Private 메소드\n",
    "- Private 메소드는 클래스 외부에서 직접 접근할 수 없는 메소드입니다.\n",
    "- 이름 앞에 __(두 개의 언더스코어)를 붙여서 private 메소드를 정의합니다.\n",
    "- 클래스 내부에서만 호출될 수 있도록 제한되어 있으며, 외부에서는 접근이 불가능합니다."
   ]
  },
  {
   "cell_type": "code",
   "execution_count": 17,
   "metadata": {},
   "outputs": [
    {
     "name": "stdout",
     "output_type": "stream",
     "text": [
      "Honda engine is starting...\n"
     ]
    }
   ],
   "source": [
    "class Car:\n",
    "    def __init__(self, brand, model):\n",
    "        self.brand = brand\n",
    "        self.model = model\n",
    "\n",
    "    def __start_engine(self):  # Private 메소드\n",
    "        return f\"{self.brand} engine is starting...\"\n",
    "\n",
    "    def start(self):  # Public 메소드\n",
    "        return self.__start_engine()\n",
    "\n",
    "\n",
    "# 객체 생성\n",
    "car = Car(\"Honda\", \"Civic\")\n",
    "\n",
    "# print(car.__start_engine())  # 오류 발생: 'Car' 객체에는 '__start_engine' 속성이 없습니다.\n",
    "print(car.start())  # Honda engine is starting..."
   ]
  }
 ],
 "metadata": {
  "kernelspec": {
   "display_name": "Python 3",
   "language": "python",
   "name": "python3"
  },
  "language_info": {
   "codemirror_mode": {
    "name": "ipython",
    "version": 3
   },
   "file_extension": ".py",
   "mimetype": "text/x-python",
   "name": "python",
   "nbconvert_exporter": "python",
   "pygments_lexer": "ipython3",
   "version": "3.13.2"
  }
 },
 "nbformat": 4,
 "nbformat_minor": 2
}
